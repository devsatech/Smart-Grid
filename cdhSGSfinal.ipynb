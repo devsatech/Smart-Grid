{
 "cells": [
  {
   "cell_type": "code",
   "execution_count": 2,
   "metadata": {
    "id": "r_raSagRjI36"
   },
   "outputs": [
    {
     "name": "stderr",
     "output_type": "stream",
     "text": [
      "Using TensorFlow backend.\n"
     ]
    }
   ],
   "source": [
    "import jsonify\n",
    "import requests\n",
    "import pickle\n",
    "import sys\n",
    "import os\n",
    "import re\n",
    "import sklearn\n",
    "import joblib\n",
    "from joblib import load\n",
    "from flask import Flask, render_template, url_for, flash, redirect, request, send_from_directory\n",
    "from sklearn.preprocessing import StandardScaler\n",
    "import tensorflow\n",
    "from tensorflow.keras.models import load_model\n",
    "import pandas as pd\n",
    "import numpy as np\n",
    "import matplotlib.pyplot as plt\n",
    "import seaborn as sns\n",
    "import os\n",
    "import tensorflow as tf\n",
    "import h5py\n",
    "%matplotlib inline\n",
    "import warnings                       \n",
    "warnings.filterwarnings(\"ignore\")\n",
    "from sklearn.preprocessing import StandardScaler\n",
    "from sklearn.metrics import confusion_matrix\n",
    "from sklearn.model_selection import KFold\n",
    "from sklearn.model_selection import train_test_split\n",
    "from keras.models import Sequential\n",
    "from keras.layers import Dense\n",
    "from keras.models import load_model\n",
    "from datetime import datetime"
   ]
  },
  {
   "cell_type": "code",
   "execution_count": 2,
   "metadata": {
    "id": "Jy29XpnMjrNK"
   },
   "outputs": [],
   "source": [
    "#from google.colab import drive\n",
    "#drive.mount('/content/gdrive')\n",
    "#os.chdir('gdrive/My Drive/kaggle/SmartGrid')"
   ]
  },
  {
   "cell_type": "code",
   "execution_count": 3,
   "metadata": {
    "id": "GAcC6O4zkMrj"
   },
   "outputs": [],
   "source": [
    "#df = pd.read_csv(\"data/Data_for_UCI_named.csv\")\n",
    "#df.head(10)"
   ]
  },
  {
   "cell_type": "code",
   "execution_count": 4,
   "metadata": {
    "colab": {
     "base_uri": "https://localhost:8080/",
     "height": 89,
     "resources": {
      "http://localhost:8080/nbextensions/google.colab/files.js": {
       "data": "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",
       "headers": [
        [
         "content-type",
         "application/javascript"
        ]
       ],
       "ok": true,
       "status": 200,
       "status_text": ""
      }
     }
    },
    "id": "zZ6eTfErqgVV",
    "outputId": "791b8b93-3ae0-44d3-d361-09ca60119d35"
   },
   "outputs": [],
   "source": [
    "# from google.colab import files\n",
    "# uploaded = files.upload()\n",
    "\n",
    "# for name, data in uploaded.items():\n",
    "#   with open(name, 'wb') as f:\n",
    "#     f.write(data)\n",
    "#     print ('saved file', name)"
   ]
  },
  {
   "cell_type": "code",
   "execution_count": 5,
   "metadata": {
    "id": "zAJfHkVDq6At"
   },
   "outputs": [],
   "source": [
    "#import io\n",
    "#df = pd.read_csv(io.BytesIO(uploaded['Data_for_UCI_named.csv']))"
   ]
  },
  {
   "cell_type": "code",
   "execution_count": 3,
   "metadata": {},
   "outputs": [],
   "source": [
    "df = pd.read_csv(\"Data_for_UCI_named.csv\")"
   ]
  },
  {
   "cell_type": "code",
   "execution_count": 7,
   "metadata": {
    "colab": {
     "base_uri": "https://localhost:8080/",
     "height": 379
    },
    "id": "ls5HIDiMtj07",
    "outputId": "55ddc2af-6ba9-441e-c7b7-9bbf40be8af8"
   },
   "outputs": [
    {
     "data": {
      "text/html": [
       "<div>\n",
       "<style scoped>\n",
       "    .dataframe tbody tr th:only-of-type {\n",
       "        vertical-align: middle;\n",
       "    }\n",
       "\n",
       "    .dataframe tbody tr th {\n",
       "        vertical-align: top;\n",
       "    }\n",
       "\n",
       "    .dataframe thead th {\n",
       "        text-align: right;\n",
       "    }\n",
       "</style>\n",
       "<table border=\"1\" class=\"dataframe\">\n",
       "  <thead>\n",
       "    <tr style=\"text-align: right;\">\n",
       "      <th></th>\n",
       "      <th>tau1</th>\n",
       "      <th>tau2</th>\n",
       "      <th>tau3</th>\n",
       "      <th>tau4</th>\n",
       "      <th>p1</th>\n",
       "      <th>p2</th>\n",
       "      <th>p3</th>\n",
       "      <th>p4</th>\n",
       "      <th>g1</th>\n",
       "      <th>g2</th>\n",
       "      <th>g3</th>\n",
       "      <th>g4</th>\n",
       "      <th>stab</th>\n",
       "      <th>stabf</th>\n",
       "    </tr>\n",
       "  </thead>\n",
       "  <tbody>\n",
       "    <tr>\n",
       "      <th>0</th>\n",
       "      <td>2.959060</td>\n",
       "      <td>3.079885</td>\n",
       "      <td>8.381025</td>\n",
       "      <td>9.780754</td>\n",
       "      <td>3.763085</td>\n",
       "      <td>-0.782604</td>\n",
       "      <td>-1.257395</td>\n",
       "      <td>-1.723086</td>\n",
       "      <td>0.650456</td>\n",
       "      <td>0.859578</td>\n",
       "      <td>0.887445</td>\n",
       "      <td>0.958034</td>\n",
       "      <td>0.055347</td>\n",
       "      <td>unstable</td>\n",
       "    </tr>\n",
       "    <tr>\n",
       "      <th>1</th>\n",
       "      <td>9.304097</td>\n",
       "      <td>4.902524</td>\n",
       "      <td>3.047541</td>\n",
       "      <td>1.369357</td>\n",
       "      <td>5.067812</td>\n",
       "      <td>-1.940058</td>\n",
       "      <td>-1.872742</td>\n",
       "      <td>-1.255012</td>\n",
       "      <td>0.413441</td>\n",
       "      <td>0.862414</td>\n",
       "      <td>0.562139</td>\n",
       "      <td>0.781760</td>\n",
       "      <td>-0.005957</td>\n",
       "      <td>stable</td>\n",
       "    </tr>\n",
       "    <tr>\n",
       "      <th>2</th>\n",
       "      <td>8.971707</td>\n",
       "      <td>8.848428</td>\n",
       "      <td>3.046479</td>\n",
       "      <td>1.214518</td>\n",
       "      <td>3.405158</td>\n",
       "      <td>-1.207456</td>\n",
       "      <td>-1.277210</td>\n",
       "      <td>-0.920492</td>\n",
       "      <td>0.163041</td>\n",
       "      <td>0.766689</td>\n",
       "      <td>0.839444</td>\n",
       "      <td>0.109853</td>\n",
       "      <td>0.003471</td>\n",
       "      <td>unstable</td>\n",
       "    </tr>\n",
       "    <tr>\n",
       "      <th>3</th>\n",
       "      <td>0.716415</td>\n",
       "      <td>7.669600</td>\n",
       "      <td>4.486641</td>\n",
       "      <td>2.340563</td>\n",
       "      <td>3.963791</td>\n",
       "      <td>-1.027473</td>\n",
       "      <td>-1.938944</td>\n",
       "      <td>-0.997374</td>\n",
       "      <td>0.446209</td>\n",
       "      <td>0.976744</td>\n",
       "      <td>0.929381</td>\n",
       "      <td>0.362718</td>\n",
       "      <td>0.028871</td>\n",
       "      <td>unstable</td>\n",
       "    </tr>\n",
       "    <tr>\n",
       "      <th>4</th>\n",
       "      <td>3.134112</td>\n",
       "      <td>7.608772</td>\n",
       "      <td>4.943759</td>\n",
       "      <td>9.857573</td>\n",
       "      <td>3.525811</td>\n",
       "      <td>-1.125531</td>\n",
       "      <td>-1.845975</td>\n",
       "      <td>-0.554305</td>\n",
       "      <td>0.797110</td>\n",
       "      <td>0.455450</td>\n",
       "      <td>0.656947</td>\n",
       "      <td>0.820923</td>\n",
       "      <td>0.049860</td>\n",
       "      <td>unstable</td>\n",
       "    </tr>\n",
       "    <tr>\n",
       "      <th>5</th>\n",
       "      <td>6.999209</td>\n",
       "      <td>9.109247</td>\n",
       "      <td>3.784066</td>\n",
       "      <td>4.267788</td>\n",
       "      <td>4.429669</td>\n",
       "      <td>-1.857139</td>\n",
       "      <td>-0.670397</td>\n",
       "      <td>-1.902133</td>\n",
       "      <td>0.261793</td>\n",
       "      <td>0.077930</td>\n",
       "      <td>0.542884</td>\n",
       "      <td>0.469931</td>\n",
       "      <td>-0.017385</td>\n",
       "      <td>stable</td>\n",
       "    </tr>\n",
       "    <tr>\n",
       "      <th>6</th>\n",
       "      <td>6.710166</td>\n",
       "      <td>3.765204</td>\n",
       "      <td>6.929314</td>\n",
       "      <td>8.818562</td>\n",
       "      <td>2.397419</td>\n",
       "      <td>-0.614590</td>\n",
       "      <td>-1.208826</td>\n",
       "      <td>-0.574004</td>\n",
       "      <td>0.177890</td>\n",
       "      <td>0.397977</td>\n",
       "      <td>0.402046</td>\n",
       "      <td>0.376630</td>\n",
       "      <td>0.005954</td>\n",
       "      <td>unstable</td>\n",
       "    </tr>\n",
       "    <tr>\n",
       "      <th>7</th>\n",
       "      <td>6.953512</td>\n",
       "      <td>1.379125</td>\n",
       "      <td>5.719400</td>\n",
       "      <td>7.870307</td>\n",
       "      <td>3.224495</td>\n",
       "      <td>-0.748998</td>\n",
       "      <td>-1.186517</td>\n",
       "      <td>-1.288980</td>\n",
       "      <td>0.371385</td>\n",
       "      <td>0.633204</td>\n",
       "      <td>0.732741</td>\n",
       "      <td>0.380544</td>\n",
       "      <td>0.016634</td>\n",
       "      <td>unstable</td>\n",
       "    </tr>\n",
       "    <tr>\n",
       "      <th>8</th>\n",
       "      <td>4.689852</td>\n",
       "      <td>4.007747</td>\n",
       "      <td>1.478573</td>\n",
       "      <td>3.733787</td>\n",
       "      <td>4.041300</td>\n",
       "      <td>-1.410344</td>\n",
       "      <td>-1.238204</td>\n",
       "      <td>-1.392751</td>\n",
       "      <td>0.269708</td>\n",
       "      <td>0.250364</td>\n",
       "      <td>0.164941</td>\n",
       "      <td>0.482439</td>\n",
       "      <td>-0.038677</td>\n",
       "      <td>stable</td>\n",
       "    </tr>\n",
       "    <tr>\n",
       "      <th>9</th>\n",
       "      <td>9.841496</td>\n",
       "      <td>1.413822</td>\n",
       "      <td>9.769856</td>\n",
       "      <td>7.641616</td>\n",
       "      <td>4.727595</td>\n",
       "      <td>-1.991363</td>\n",
       "      <td>-0.857637</td>\n",
       "      <td>-1.878594</td>\n",
       "      <td>0.376356</td>\n",
       "      <td>0.544415</td>\n",
       "      <td>0.792039</td>\n",
       "      <td>0.116263</td>\n",
       "      <td>0.012383</td>\n",
       "      <td>unstable</td>\n",
       "    </tr>\n",
       "  </tbody>\n",
       "</table>\n",
       "</div>"
      ],
      "text/plain": [
       "       tau1      tau2      tau3      tau4        p1        p2        p3  \\\n",
       "0  2.959060  3.079885  8.381025  9.780754  3.763085 -0.782604 -1.257395   \n",
       "1  9.304097  4.902524  3.047541  1.369357  5.067812 -1.940058 -1.872742   \n",
       "2  8.971707  8.848428  3.046479  1.214518  3.405158 -1.207456 -1.277210   \n",
       "3  0.716415  7.669600  4.486641  2.340563  3.963791 -1.027473 -1.938944   \n",
       "4  3.134112  7.608772  4.943759  9.857573  3.525811 -1.125531 -1.845975   \n",
       "5  6.999209  9.109247  3.784066  4.267788  4.429669 -1.857139 -0.670397   \n",
       "6  6.710166  3.765204  6.929314  8.818562  2.397419 -0.614590 -1.208826   \n",
       "7  6.953512  1.379125  5.719400  7.870307  3.224495 -0.748998 -1.186517   \n",
       "8  4.689852  4.007747  1.478573  3.733787  4.041300 -1.410344 -1.238204   \n",
       "9  9.841496  1.413822  9.769856  7.641616  4.727595 -1.991363 -0.857637   \n",
       "\n",
       "         p4        g1        g2        g3        g4      stab     stabf  \n",
       "0 -1.723086  0.650456  0.859578  0.887445  0.958034  0.055347  unstable  \n",
       "1 -1.255012  0.413441  0.862414  0.562139  0.781760 -0.005957    stable  \n",
       "2 -0.920492  0.163041  0.766689  0.839444  0.109853  0.003471  unstable  \n",
       "3 -0.997374  0.446209  0.976744  0.929381  0.362718  0.028871  unstable  \n",
       "4 -0.554305  0.797110  0.455450  0.656947  0.820923  0.049860  unstable  \n",
       "5 -1.902133  0.261793  0.077930  0.542884  0.469931 -0.017385    stable  \n",
       "6 -0.574004  0.177890  0.397977  0.402046  0.376630  0.005954  unstable  \n",
       "7 -1.288980  0.371385  0.633204  0.732741  0.380544  0.016634  unstable  \n",
       "8 -1.392751  0.269708  0.250364  0.164941  0.482439 -0.038677    stable  \n",
       "9 -1.878594  0.376356  0.544415  0.792039  0.116263  0.012383  unstable  "
      ]
     },
     "execution_count": 7,
     "metadata": {},
     "output_type": "execute_result"
    }
   ],
   "source": [
    "df.head(10)"
   ]
  },
  {
   "cell_type": "code",
   "execution_count": 8,
   "metadata": {
    "colab": {
     "base_uri": "https://localhost:8080/"
    },
    "id": "xvz52h5Tl8A5",
    "outputId": "bebd32d7-c2f8-436c-c576-a8bfb06cadbc"
   },
   "outputs": [
    {
     "name": "stdout",
     "output_type": "stream",
     "text": [
      "<class 'pandas.core.frame.DataFrame'>\n",
      "RangeIndex: 10000 entries, 0 to 9999\n",
      "Data columns (total 14 columns):\n",
      "tau1     10000 non-null float64\n",
      "tau2     10000 non-null float64\n",
      "tau3     10000 non-null float64\n",
      "tau4     10000 non-null float64\n",
      "p1       10000 non-null float64\n",
      "p2       10000 non-null float64\n",
      "p3       10000 non-null float64\n",
      "p4       10000 non-null float64\n",
      "g1       10000 non-null float64\n",
      "g2       10000 non-null float64\n",
      "g3       10000 non-null float64\n",
      "g4       10000 non-null float64\n",
      "stab     10000 non-null float64\n",
      "stabf    10000 non-null object\n",
      "dtypes: float64(13), object(1)\n",
      "memory usage: 1.1+ MB\n"
     ]
    }
   ],
   "source": [
    "df.info()"
   ]
  },
  {
   "cell_type": "code",
   "execution_count": 9,
   "metadata": {
    "colab": {
     "base_uri": "https://localhost:8080/",
     "height": 317
    },
    "id": "FHU-60ZHlnhL",
    "outputId": "58af7141-67e1-41ba-bff9-e07fb9a7d982"
   },
   "outputs": [
    {
     "data": {
      "text/html": [
       "<div>\n",
       "<style scoped>\n",
       "    .dataframe tbody tr th:only-of-type {\n",
       "        vertical-align: middle;\n",
       "    }\n",
       "\n",
       "    .dataframe tbody tr th {\n",
       "        vertical-align: top;\n",
       "    }\n",
       "\n",
       "    .dataframe thead th {\n",
       "        text-align: right;\n",
       "    }\n",
       "</style>\n",
       "<table border=\"1\" class=\"dataframe\">\n",
       "  <thead>\n",
       "    <tr style=\"text-align: right;\">\n",
       "      <th></th>\n",
       "      <th>tau1</th>\n",
       "      <th>tau2</th>\n",
       "      <th>tau3</th>\n",
       "      <th>tau4</th>\n",
       "      <th>p1</th>\n",
       "      <th>p2</th>\n",
       "      <th>p3</th>\n",
       "      <th>p4</th>\n",
       "      <th>g1</th>\n",
       "      <th>g2</th>\n",
       "      <th>g3</th>\n",
       "      <th>g4</th>\n",
       "      <th>stab</th>\n",
       "    </tr>\n",
       "  </thead>\n",
       "  <tbody>\n",
       "    <tr>\n",
       "      <th>count</th>\n",
       "      <td>10000.000000</td>\n",
       "      <td>10000.000000</td>\n",
       "      <td>10000.000000</td>\n",
       "      <td>10000.000000</td>\n",
       "      <td>10000.000000</td>\n",
       "      <td>10000.000000</td>\n",
       "      <td>10000.000000</td>\n",
       "      <td>10000.000000</td>\n",
       "      <td>10000.000000</td>\n",
       "      <td>10000.000000</td>\n",
       "      <td>10000.000000</td>\n",
       "      <td>10000.000000</td>\n",
       "      <td>10000.000000</td>\n",
       "    </tr>\n",
       "    <tr>\n",
       "      <th>mean</th>\n",
       "      <td>5.250000</td>\n",
       "      <td>5.250001</td>\n",
       "      <td>5.250004</td>\n",
       "      <td>5.249997</td>\n",
       "      <td>3.750000</td>\n",
       "      <td>-1.250000</td>\n",
       "      <td>-1.250000</td>\n",
       "      <td>-1.250000</td>\n",
       "      <td>0.525000</td>\n",
       "      <td>0.525000</td>\n",
       "      <td>0.525000</td>\n",
       "      <td>0.525000</td>\n",
       "      <td>0.015731</td>\n",
       "    </tr>\n",
       "    <tr>\n",
       "      <th>std</th>\n",
       "      <td>2.742548</td>\n",
       "      <td>2.742549</td>\n",
       "      <td>2.742549</td>\n",
       "      <td>2.742556</td>\n",
       "      <td>0.752160</td>\n",
       "      <td>0.433035</td>\n",
       "      <td>0.433035</td>\n",
       "      <td>0.433035</td>\n",
       "      <td>0.274256</td>\n",
       "      <td>0.274255</td>\n",
       "      <td>0.274255</td>\n",
       "      <td>0.274255</td>\n",
       "      <td>0.036919</td>\n",
       "    </tr>\n",
       "    <tr>\n",
       "      <th>min</th>\n",
       "      <td>0.500793</td>\n",
       "      <td>0.500141</td>\n",
       "      <td>0.500788</td>\n",
       "      <td>0.500473</td>\n",
       "      <td>1.582590</td>\n",
       "      <td>-1.999891</td>\n",
       "      <td>-1.999945</td>\n",
       "      <td>-1.999926</td>\n",
       "      <td>0.050009</td>\n",
       "      <td>0.050053</td>\n",
       "      <td>0.050054</td>\n",
       "      <td>0.050028</td>\n",
       "      <td>-0.080760</td>\n",
       "    </tr>\n",
       "    <tr>\n",
       "      <th>25%</th>\n",
       "      <td>2.874892</td>\n",
       "      <td>2.875140</td>\n",
       "      <td>2.875522</td>\n",
       "      <td>2.874950</td>\n",
       "      <td>3.218300</td>\n",
       "      <td>-1.624901</td>\n",
       "      <td>-1.625025</td>\n",
       "      <td>-1.624960</td>\n",
       "      <td>0.287521</td>\n",
       "      <td>0.287552</td>\n",
       "      <td>0.287514</td>\n",
       "      <td>0.287494</td>\n",
       "      <td>-0.015557</td>\n",
       "    </tr>\n",
       "    <tr>\n",
       "      <th>50%</th>\n",
       "      <td>5.250004</td>\n",
       "      <td>5.249981</td>\n",
       "      <td>5.249979</td>\n",
       "      <td>5.249734</td>\n",
       "      <td>3.751025</td>\n",
       "      <td>-1.249966</td>\n",
       "      <td>-1.249974</td>\n",
       "      <td>-1.250007</td>\n",
       "      <td>0.525009</td>\n",
       "      <td>0.525003</td>\n",
       "      <td>0.525015</td>\n",
       "      <td>0.525002</td>\n",
       "      <td>0.017142</td>\n",
       "    </tr>\n",
       "    <tr>\n",
       "      <th>75%</th>\n",
       "      <td>7.624690</td>\n",
       "      <td>7.624893</td>\n",
       "      <td>7.624948</td>\n",
       "      <td>7.624838</td>\n",
       "      <td>4.282420</td>\n",
       "      <td>-0.874977</td>\n",
       "      <td>-0.875043</td>\n",
       "      <td>-0.875065</td>\n",
       "      <td>0.762435</td>\n",
       "      <td>0.762490</td>\n",
       "      <td>0.762440</td>\n",
       "      <td>0.762433</td>\n",
       "      <td>0.044878</td>\n",
       "    </tr>\n",
       "    <tr>\n",
       "      <th>max</th>\n",
       "      <td>9.999469</td>\n",
       "      <td>9.999837</td>\n",
       "      <td>9.999450</td>\n",
       "      <td>9.999443</td>\n",
       "      <td>5.864418</td>\n",
       "      <td>-0.500108</td>\n",
       "      <td>-0.500072</td>\n",
       "      <td>-0.500025</td>\n",
       "      <td>0.999937</td>\n",
       "      <td>0.999944</td>\n",
       "      <td>0.999982</td>\n",
       "      <td>0.999930</td>\n",
       "      <td>0.109403</td>\n",
       "    </tr>\n",
       "  </tbody>\n",
       "</table>\n",
       "</div>"
      ],
      "text/plain": [
       "               tau1          tau2          tau3          tau4            p1  \\\n",
       "count  10000.000000  10000.000000  10000.000000  10000.000000  10000.000000   \n",
       "mean       5.250000      5.250001      5.250004      5.249997      3.750000   \n",
       "std        2.742548      2.742549      2.742549      2.742556      0.752160   \n",
       "min        0.500793      0.500141      0.500788      0.500473      1.582590   \n",
       "25%        2.874892      2.875140      2.875522      2.874950      3.218300   \n",
       "50%        5.250004      5.249981      5.249979      5.249734      3.751025   \n",
       "75%        7.624690      7.624893      7.624948      7.624838      4.282420   \n",
       "max        9.999469      9.999837      9.999450      9.999443      5.864418   \n",
       "\n",
       "                 p2            p3            p4            g1            g2  \\\n",
       "count  10000.000000  10000.000000  10000.000000  10000.000000  10000.000000   \n",
       "mean      -1.250000     -1.250000     -1.250000      0.525000      0.525000   \n",
       "std        0.433035      0.433035      0.433035      0.274256      0.274255   \n",
       "min       -1.999891     -1.999945     -1.999926      0.050009      0.050053   \n",
       "25%       -1.624901     -1.625025     -1.624960      0.287521      0.287552   \n",
       "50%       -1.249966     -1.249974     -1.250007      0.525009      0.525003   \n",
       "75%       -0.874977     -0.875043     -0.875065      0.762435      0.762490   \n",
       "max       -0.500108     -0.500072     -0.500025      0.999937      0.999944   \n",
       "\n",
       "                 g3            g4          stab  \n",
       "count  10000.000000  10000.000000  10000.000000  \n",
       "mean       0.525000      0.525000      0.015731  \n",
       "std        0.274255      0.274255      0.036919  \n",
       "min        0.050054      0.050028     -0.080760  \n",
       "25%        0.287514      0.287494     -0.015557  \n",
       "50%        0.525015      0.525002      0.017142  \n",
       "75%        0.762440      0.762433      0.044878  \n",
       "max        0.999982      0.999930      0.109403  "
      ]
     },
     "execution_count": 9,
     "metadata": {},
     "output_type": "execute_result"
    }
   ],
   "source": [
    "df.describe()"
   ]
  },
  {
   "cell_type": "code",
   "execution_count": 10,
   "metadata": {
    "colab": {
     "base_uri": "https://localhost:8080/",
     "height": 381
    },
    "id": "0fWe2w51lPu8",
    "outputId": "89afcb30-56da-421f-be2b-57b87e33acf0"
   },
   "outputs": [
    {
     "name": "stdout",
     "output_type": "stream",
     "text": [
      "\n",
      "Total unique labels :  2\n",
      "unstable    6380\n",
      "stable      3620\n",
      "Name: stabf, dtype: int64\n"
     ]
    },
    {
     "data": {
      "text/plain": [
       "<matplotlib.axes._subplots.AxesSubplot at 0x1b33f732d68>"
      ]
     },
     "execution_count": 10,
     "metadata": {},
     "output_type": "execute_result"
    },
    {
     "data": {
      "image/png": "[encoded data removed]",
      "text/plain": [
       "<Figure size 432x288 with 1 Axes>"
      ]
     },
     "metadata": {},
     "output_type": "display_data"
    }
   ],
   "source": [
    "print(\"\\nTotal unique labels : \", df['stabf'].nunique())\n",
    "print(df['stabf'].value_counts())\n",
    "\n",
    "sns.set_style('whitegrid')\n",
    "sns.countplot(x='stabf',data=df)"
   ]
  },
  {
   "cell_type": "code",
   "execution_count": 11,
   "metadata": {
    "colab": {
     "base_uri": "https://localhost:8080/",
     "height": 296
    },
    "id": "KtN01v3bnoiv",
    "outputId": "54ac9e09-184c-42df-941d-5a417c8efa5a"
   },
   "outputs": [
    {
     "data": {
      "text/plain": [
       "<matplotlib.axes._subplots.AxesSubplot at 0x1b3417c32e8>"
      ]
     },
     "execution_count": 11,
     "metadata": {},
     "output_type": "execute_result"
    },
    {
     "data": {
      "image/png": "[encoded data removed]",
      "text/plain": [
       "<Figure size 576x288 with 1 Axes>"
      ]
     },
     "metadata": {},
     "output_type": "display_data"
    }
   ],
   "source": [
    "plt.figure(figsize=(8,4))\n",
    "sns.distplot(df['stab'], color='g')"
   ]
  },
  {
   "cell_type": "code",
   "execution_count": 12,
   "metadata": {
    "colab": {
     "base_uri": "https://localhost:8080/",
     "height": 612
    },
    "id": "nodunDExq4eC",
    "outputId": "916346e2-7e23-4401-f68f-68e63cf31152"
   },
   "outputs": [
    {
     "data": {
      "text/plain": [
       "<matplotlib.axes._subplots.AxesSubplot at 0x1b33f732cf8>"
      ]
     },
     "execution_count": 12,
     "metadata": {},
     "output_type": "execute_result"
    },
    {
     "data": {
      "image/png": "[encoded data removed]",
      "text/plain": [
       "<Figure size 1008x720 with 2 Axes>"
      ]
     },
     "metadata": {},
     "output_type": "display_data"
    }
   ],
   "source": [
    "plt.figure(figsize=(14,10))\n",
    "sns.heatmap(df.corr(), annot=True, cmap='coolwarm_r')"
   ]
  },
  {
   "cell_type": "code",
   "execution_count": 4,
   "metadata": {
    "id": "Whr60KZEyCjm"
   },
   "outputs": [],
   "source": [
    "sns.set()\n",
    "start_time = datetime.now()\n",
    "\n",
    "data = df.copy()\n",
    "\n",
    "map1 = {'unstable': 0, 'stable': 1}\n",
    "data['stabf'] = data['stabf'].replace(map1)\n"
   ]
  },
  {
   "cell_type": "code",
   "execution_count": 14,
   "metadata": {
    "id": "Pfm9OmvzAYeA"
   },
   "outputs": [],
   "source": [
    "#X = data.drop(['stab', 'stabf'],axis=1)\n",
    "#Y = data['stab']"
   ]
  },
  {
   "cell_type": "code",
   "execution_count": 15,
   "metadata": {
    "colab": {
     "base_uri": "https://localhost:8080/",
     "height": 224
    },
    "id": "P4pk4fjf1tY0",
    "outputId": "5fb6145c-4c5d-47f5-cfb9-da9bbedc60f4"
   },
   "outputs": [
    {
     "data": {
      "text/html": [
       "<div>\n",
       "<style scoped>\n",
       "    .dataframe tbody tr th:only-of-type {\n",
       "        vertical-align: middle;\n",
       "    }\n",
       "\n",
       "    .dataframe tbody tr th {\n",
       "        vertical-align: top;\n",
       "    }\n",
       "\n",
       "    .dataframe thead th {\n",
       "        text-align: right;\n",
       "    }\n",
       "</style>\n",
       "<table border=\"1\" class=\"dataframe\">\n",
       "  <thead>\n",
       "    <tr style=\"text-align: right;\">\n",
       "      <th></th>\n",
       "      <th>tau1</th>\n",
       "      <th>tau2</th>\n",
       "      <th>tau3</th>\n",
       "      <th>tau4</th>\n",
       "      <th>p1</th>\n",
       "      <th>p2</th>\n",
       "      <th>p3</th>\n",
       "      <th>p4</th>\n",
       "      <th>g1</th>\n",
       "      <th>g2</th>\n",
       "      <th>g3</th>\n",
       "      <th>g4</th>\n",
       "      <th>stab</th>\n",
       "      <th>stabf</th>\n",
       "    </tr>\n",
       "  </thead>\n",
       "  <tbody>\n",
       "    <tr>\n",
       "      <th>0</th>\n",
       "      <td>2.959060</td>\n",
       "      <td>3.079885</td>\n",
       "      <td>8.381025</td>\n",
       "      <td>9.780754</td>\n",
       "      <td>3.763085</td>\n",
       "      <td>-0.782604</td>\n",
       "      <td>-1.257395</td>\n",
       "      <td>-1.723086</td>\n",
       "      <td>0.650456</td>\n",
       "      <td>0.859578</td>\n",
       "      <td>0.887445</td>\n",
       "      <td>0.958034</td>\n",
       "      <td>0.055347</td>\n",
       "      <td>0</td>\n",
       "    </tr>\n",
       "    <tr>\n",
       "      <th>1</th>\n",
       "      <td>9.304097</td>\n",
       "      <td>4.902524</td>\n",
       "      <td>3.047541</td>\n",
       "      <td>1.369357</td>\n",
       "      <td>5.067812</td>\n",
       "      <td>-1.940058</td>\n",
       "      <td>-1.872742</td>\n",
       "      <td>-1.255012</td>\n",
       "      <td>0.413441</td>\n",
       "      <td>0.862414</td>\n",
       "      <td>0.562139</td>\n",
       "      <td>0.781760</td>\n",
       "      <td>-0.005957</td>\n",
       "      <td>1</td>\n",
       "    </tr>\n",
       "    <tr>\n",
       "      <th>2</th>\n",
       "      <td>8.971707</td>\n",
       "      <td>8.848428</td>\n",
       "      <td>3.046479</td>\n",
       "      <td>1.214518</td>\n",
       "      <td>3.405158</td>\n",
       "      <td>-1.207456</td>\n",
       "      <td>-1.277210</td>\n",
       "      <td>-0.920492</td>\n",
       "      <td>0.163041</td>\n",
       "      <td>0.766689</td>\n",
       "      <td>0.839444</td>\n",
       "      <td>0.109853</td>\n",
       "      <td>0.003471</td>\n",
       "      <td>0</td>\n",
       "    </tr>\n",
       "    <tr>\n",
       "      <th>3</th>\n",
       "      <td>0.716415</td>\n",
       "      <td>7.669600</td>\n",
       "      <td>4.486641</td>\n",
       "      <td>2.340563</td>\n",
       "      <td>3.963791</td>\n",
       "      <td>-1.027473</td>\n",
       "      <td>-1.938944</td>\n",
       "      <td>-0.997374</td>\n",
       "      <td>0.446209</td>\n",
       "      <td>0.976744</td>\n",
       "      <td>0.929381</td>\n",
       "      <td>0.362718</td>\n",
       "      <td>0.028871</td>\n",
       "      <td>0</td>\n",
       "    </tr>\n",
       "    <tr>\n",
       "      <th>4</th>\n",
       "      <td>3.134112</td>\n",
       "      <td>7.608772</td>\n",
       "      <td>4.943759</td>\n",
       "      <td>9.857573</td>\n",
       "      <td>3.525811</td>\n",
       "      <td>-1.125531</td>\n",
       "      <td>-1.845975</td>\n",
       "      <td>-0.554305</td>\n",
       "      <td>0.797110</td>\n",
       "      <td>0.455450</td>\n",
       "      <td>0.656947</td>\n",
       "      <td>0.820923</td>\n",
       "      <td>0.049860</td>\n",
       "      <td>0</td>\n",
       "    </tr>\n",
       "  </tbody>\n",
       "</table>\n",
       "</div>"
      ],
      "text/plain": [
       "       tau1      tau2      tau3      tau4        p1        p2        p3  \\\n",
       "0  2.959060  3.079885  8.381025  9.780754  3.763085 -0.782604 -1.257395   \n",
       "1  9.304097  4.902524  3.047541  1.369357  5.067812 -1.940058 -1.872742   \n",
       "2  8.971707  8.848428  3.046479  1.214518  3.405158 -1.207456 -1.277210   \n",
       "3  0.716415  7.669600  4.486641  2.340563  3.963791 -1.027473 -1.938944   \n",
       "4  3.134112  7.608772  4.943759  9.857573  3.525811 -1.125531 -1.845975   \n",
       "\n",
       "         p4        g1        g2        g3        g4      stab  stabf  \n",
       "0 -1.723086  0.650456  0.859578  0.887445  0.958034  0.055347      0  \n",
       "1 -1.255012  0.413441  0.862414  0.562139  0.781760 -0.005957      1  \n",
       "2 -0.920492  0.163041  0.766689  0.839444  0.109853  0.003471      0  \n",
       "3 -0.997374  0.446209  0.976744  0.929381  0.362718  0.028871      0  \n",
       "4 -0.554305  0.797110  0.455450  0.656947  0.820923  0.049860      0  "
      ]
     },
     "execution_count": 15,
     "metadata": {},
     "output_type": "execute_result"
    }
   ],
   "source": [
    "data.head()"
   ]
  },
  {
   "cell_type": "code",
   "execution_count": 16,
   "metadata": {
    "id": "htELgoVY3GZV"
   },
   "outputs": [],
   "source": [
    "\n",
    "#X_train, X_test, Y_train, Y_test = train_test_split(X,Y,test_size=0.2,random_state=50)\n",
    "#X_val, X_test, Y_val, Y_test = train_test_split(X_test,Y_test,test_size=0.5,random_state=50)"
   ]
  },
  {
   "cell_type": "code",
   "execution_count": 5,
   "metadata": {
    "id": "N02gh796OOuB"
   },
   "outputs": [],
   "source": [
    "X = data.iloc[:, :12]\n",
    "y = data.iloc[:, 13]\n",
    "\n",
    "X_training = X.iloc[:9000, :]\n",
    "y_training = y.iloc[:9000]\n",
    "\n",
    "X_testing = X.iloc[9000:, :]\n",
    "y_testing = y.iloc[9000:]\n"
   ]
  },
  {
   "cell_type": "code",
   "execution_count": 18,
   "metadata": {
    "id": "zHjEzWTFPjxU"
   },
   "outputs": [],
   "source": [
    "#X_testing.iloc[:,:]"
   ]
  },
  {
   "cell_type": "code",
   "execution_count": 6,
   "metadata": {
    "id": "Qzbl8P99O1nP"
   },
   "outputs": [],
   "source": [
    "X_training = X_training.values\n",
    "y_training = y_training.values\n",
    "\n",
    "X_testing = X_testing.values\n",
    "y_testing = y_testing.values"
   ]
  },
  {
   "cell_type": "code",
   "execution_count": 7,
   "metadata": {
    "id": "MuOAGK4gO3L_"
   },
   "outputs": [],
   "source": [
    "scaler = StandardScaler()\n",
    "X_training = scaler.fit_transform(X_training)\n",
    "X_testing = scaler.transform(X_testing)"
   ]
  },
  {
   "cell_type": "code",
   "execution_count": 38,
   "metadata": {},
   "outputs": [
    {
     "data": {
      "text/plain": [
       "['Scaler.joblib']"
      ]
     },
     "execution_count": 38,
     "metadata": {},
     "output_type": "execute_result"
    }
   ],
   "source": [
    "joblib.dump(scaler, 'Scaler.joblib')"
   ]
  },
  {
   "cell_type": "code",
   "execution_count": 22,
   "metadata": {
    "id": "EzFWyB_JO-tB"
   },
   "outputs": [
    {
     "name": "stdout",
     "output_type": "stream",
     "text": [
      "WARNING:tensorflow:From C:\\Users\\CG\\Anaconda3\\lib\\site-packages\\tensorflow\\python\\ops\\resource_variable_ops.py:435: colocate_with (from tensorflow.python.framework.ops) is deprecated and will be removed in a future version.\n",
      "Instructions for updating:\n",
      "Colocations handled automatically by placer.\n"
     ]
    }
   ],
   "source": [
    "# ANN initialization\n",
    "model = Sequential()\n",
    "\n",
    "# Input layer and first hidden layer\n",
    "model.add(Dense(units = 240, kernel_initializer = 'uniform', activation = 'relu', input_dim = 12))\n",
    "\n",
    "# Second hidden layer\n",
    "model.add(Dense(units = 48, kernel_initializer = 'uniform', activation = 'relu'))\n",
    "\n",
    "# Third hidden layer\n",
    "model.add(Dense(units = 12, kernel_initializer = 'uniform', activation = 'relu'))\n",
    "\n",
    "# Single-node output layer\n",
    "model.add(Dense(units = 1, kernel_initializer = 'uniform', activation = 'sigmoid'))\n",
    "\n",
    "# ANN compilation\n",
    "model.compile(optimizer = 'adam', loss = 'binary_crossentropy', metrics = ['accuracy'])\n"
   ]
  },
  {
   "cell_type": "code",
   "execution_count": 23,
   "metadata": {
    "colab": {
     "base_uri": "https://localhost:8080/"
    },
    "id": "7n5aPTONPBjP",
    "outputId": "db4a6be6-efc5-42d3-c33a-e75ea6e2aef2"
   },
   "outputs": [
    {
     "name": "stdout",
     "output_type": "stream",
     "text": [
      "Model evaluation\n",
      "\n",
      "WARNING:tensorflow:From C:\\Users\\CG\\Anaconda3\\lib\\site-packages\\tensorflow\\python\\ops\\math_ops.py:3066: to_int32 (from tensorflow.python.ops.math_ops) is deprecated and will be removed in a future version.\n",
      "Instructions for updating:\n",
      "Use tf.cast instead.\n",
      "600/600 [==============================] - 0s 182us/step\n",
      "Round 1 - Loss: 0.1047 | Accuracy: 97.33 %\n",
      "600/600 [==============================] - 0s 33us/step\n",
      "Round 2 - Loss: 0.0339 | Accuracy: 99.00 %\n",
      "600/600 [==============================] - 0s 37us/step\n",
      "Round 3 - Loss: 0.0142 | Accuracy: 99.67 %\n",
      "600/600 [==============================] - 0s 35us/step\n",
      "Round 4 - Loss: 0.0053 | Accuracy: 99.83 %\n",
      "600/600 [==============================] - 0s 28us/step\n",
      "Round 5 - Loss: 0.0165 | Accuracy: 99.83 %\n",
      "600/600 [==============================] - 0s 32us/step\n",
      "Round 6 - Loss: 0.0000 | Accuracy: 100.00 %\n",
      "600/600 [==============================] - 0s 49us/step\n",
      "Round 7 - Loss: 0.0000 | Accuracy: 100.00 %\n",
      "600/600 [==============================] - 0s 39us/step\n",
      "Round 8 - Loss: 0.0055 | Accuracy: 99.67 %\n",
      "600/600 [==============================] - 0s 42us/step\n",
      "Round 9 - Loss: 0.0000 | Accuracy: 100.00 %\n",
      "600/600 [==============================] - 0s 39us/step\n",
      "Round 10 - Loss: 0.0001 | Accuracy: 100.00 %\n",
      "600/600 [==============================] - 0s 60us/step\n",
      "Round 11 - Loss: 0.0000 | Accuracy: 100.00 %\n",
      "600/600 [==============================] - 0s 46us/step\n",
      "Round 12 - Loss: 0.0000 | Accuracy: 100.00 %\n",
      "600/600 [==============================] - 0s 38us/step\n",
      "Round 13 - Loss: 0.0000 | Accuracy: 100.00 %\n",
      "600/600 [==============================] - 0s 48us/step\n",
      "Round 14 - Loss: 0.0000 | Accuracy: 100.00 %\n",
      "600/600 [==============================] - 0s 38us/step\n",
      "Round 15 - Loss: 0.0009 | Accuracy: 100.00 %\n"
     ]
    }
   ],
   "source": [
    "cross_val_round = 1\n",
    "print(f'Model evaluation\\n')\n",
    "\n",
    "for train_index, val_index in KFold(15, shuffle=True, random_state=10).split(X_training):\n",
    "    x_train, x_val = X_training[train_index], X_training[val_index]\n",
    "    y_train ,y_val = y_training[train_index], y_training[val_index]\n",
    "    model.fit(x_train, y_train, epochs=100, verbose=0)\n",
    "    model_loss, model_accuracy = model.evaluate(x_val, y_val)\n",
    "    print(f'Round {cross_val_round} - Loss: {model_loss:.4f} | Accuracy: {model_accuracy * 100:.2f} %')\n",
    "    cross_val_round += 1"
   ]
  },
  {
   "cell_type": "code",
   "execution_count": 24,
   "metadata": {
    "id": "FF4ULr3acrtO"
   },
   "outputs": [],
   "source": [
    "#X_testing[0].reshape(1,12).shape"
   ]
  },
  {
   "cell_type": "code",
   "execution_count": 12,
   "metadata": {
    "id": "E6xccc13RBuI"
   },
   "outputs": [],
   "source": [
    "y_pred = model.predict(X_testing)\n",
    "#print(y_pred)\n",
    "y_pred[y_pred <= 0.5] = 0\n",
    "y_pred[y_pred > 0.5] = 1\n"
   ]
  },
  {
   "cell_type": "code",
   "execution_count": 26,
   "metadata": {},
   "outputs": [],
   "source": [
    "# li = list(np.unique(y_pred))\n",
    "# for i in li:\n",
    "#     print(round(i,2))\n",
    "# li = y_pred\n",
    "# j = 9002\n",
    "# for i in li:\n",
    "#     if i[0]>0.8 and i[0]<0.9:\n",
    "#         print(j,round(i[0],5))\n",
    "#     j+=1"
   ]
  },
  {
   "cell_type": "code",
   "execution_count": 27,
   "metadata": {
    "colab": {
     "base_uri": "https://localhost:8080/",
     "height": 111
    },
    "id": "HkuIquaoRDrk",
    "outputId": "489806d8-cf2f-47f6-a447-e32b87007b38"
   },
   "outputs": [
    {
     "data": {
      "text/html": [
       "<div>\n",
       "<style scoped>\n",
       "    .dataframe tbody tr th:only-of-type {\n",
       "        vertical-align: middle;\n",
       "    }\n",
       "\n",
       "    .dataframe tbody tr th {\n",
       "        vertical-align: top;\n",
       "    }\n",
       "\n",
       "    .dataframe thead th {\n",
       "        text-align: right;\n",
       "    }\n",
       "</style>\n",
       "<table border=\"1\" class=\"dataframe\">\n",
       "  <thead>\n",
       "    <tr style=\"text-align: right;\">\n",
       "      <th></th>\n",
       "      <th>Predicted Unstable</th>\n",
       "      <th>Predicted Stable</th>\n",
       "    </tr>\n",
       "  </thead>\n",
       "  <tbody>\n",
       "    <tr>\n",
       "      <th>Actual Unstable</th>\n",
       "      <td>614</td>\n",
       "      <td>10</td>\n",
       "    </tr>\n",
       "    <tr>\n",
       "      <th>Actual Stable</th>\n",
       "      <td>18</td>\n",
       "      <td>358</td>\n",
       "    </tr>\n",
       "  </tbody>\n",
       "</table>\n",
       "</div>"
      ],
      "text/plain": [
       "                 Predicted Unstable  Predicted Stable\n",
       "Actual Unstable                 614                10\n",
       "Actual Stable                    18               358"
      ]
     },
     "execution_count": 27,
     "metadata": {},
     "output_type": "execute_result"
    }
   ],
   "source": [
    "cm = pd.DataFrame(data=confusion_matrix(y_testing, y_pred, labels=[0, 1]),\n",
    "                  index=[\"Actual Unstable\", \"Actual Stable\"],\n",
    "                  columns=[\"Predicted Unstable\", \"Predicted Stable\"])\n",
    "cm"
   ]
  },
  {
   "cell_type": "code",
   "execution_count": 37,
   "metadata": {
    "id": "DKWMakuyeVhO"
   },
   "outputs": [],
   "source": [
    "#model.save('SG24048121_1.h5')\n",
    "model.save('Model.h5')"
   ]
  },
  {
   "cell_type": "code",
   "execution_count": 8,
   "metadata": {
    "id": "Z1PW8VEegctV"
   },
   "outputs": [
    {
     "name": "stdout",
     "output_type": "stream",
     "text": [
      "WARNING:tensorflow:From C:\\Users\\CG\\Anaconda3\\lib\\site-packages\\tensorflow\\python\\ops\\resource_variable_ops.py:435: colocate_with (from tensorflow.python.framework.ops) is deprecated and will be removed in a future version.\n",
      "Instructions for updating:\n",
      "Colocations handled automatically by placer.\n",
      "WARNING:tensorflow:From C:\\Users\\CG\\Anaconda3\\lib\\site-packages\\tensorflow\\python\\ops\\math_ops.py:3066: to_int32 (from tensorflow.python.ops.math_ops) is deprecated and will be removed in a future version.\n",
      "Instructions for updating:\n",
      "Use tf.cast instead.\n"
     ]
    }
   ],
   "source": [
    "model= load_model('Model.h5')\n",
    "scaler=load('Scaler.joblib')"
   ]
  },
  {
   "cell_type": "code",
   "execution_count": 9,
   "metadata": {
    "colab": {
     "base_uri": "https://localhost:8080/"
    },
    "id": "nkL8_XZWggqz",
    "outputId": "1c99dfd5-e36d-4377-ad54-789c149bb9fc"
   },
   "outputs": [
    {
     "name": "stdout",
     "output_type": "stream",
     "text": [
      "Model: \"sequential_1\"\n",
      "_________________________________________________________________\n",
      "Layer (type)                 Output Shape              Param #   \n",
      "=================================================================\n",
      "dense_1 (Dense)              (None, 240)               3120      \n",
      "_________________________________________________________________\n",
      "dense_2 (Dense)              (None, 48)                11568     \n",
      "_________________________________________________________________\n",
      "dense_3 (Dense)              (None, 12)                588       \n",
      "_________________________________________________________________\n",
      "dense_4 (Dense)              (None, 1)                 13        \n",
      "=================================================================\n",
      "Total params: 15,289\n",
      "Trainable params: 15,289\n",
      "Non-trainable params: 0\n",
      "_________________________________________________________________\n",
      "None\n"
     ]
    }
   ],
   "source": [
    "\n",
    "print(model.summary())"
   ]
  },
  {
   "cell_type": "code",
   "execution_count": 10,
   "metadata": {
    "colab": {
     "base_uri": "https://localhost:8080/"
    },
    "id": "DLqqUEp-ifyI",
    "outputId": "e3955efe-ff18-4e46-8361-9cbbeea27dbc"
   },
   "outputs": [
    {
     "data": {
      "text/plain": [
       "[array([[-0.77405345, -0.20264441, -0.07221089, ...,  0.15673807,\n",
       "         -0.12384412,  0.2803507 ],\n",
       "        [ 0.2797282 , -0.28277084, -0.21435006, ...,  0.03609806,\n",
       "         -0.14243081,  0.11341774],\n",
       "        [-0.02312802,  0.88742673,  0.2585171 , ..., -0.07184889,\n",
       "         -0.5051353 ,  0.12175401],\n",
       "        ...,\n",
       "        [-0.45178384,  0.2573903 ,  0.35509595, ..., -0.302218  ,\n",
       "         -0.08206848, -0.03092469],\n",
       "        [-0.22577117, -0.34391358, -0.05014539, ...,  0.00517659,\n",
       "          0.17496413,  0.4904136 ],\n",
       "        [-0.46565792,  0.00170018,  0.4827628 , ...,  0.50561386,\n",
       "         -0.5487244 ,  0.38532045]], dtype=float32),\n",
       " array([-6.79588020e-01, -2.91176736e-01,  5.48964858e-01,  3.18972290e-01,\n",
       "        -1.62653383e-02,  3.27911317e-01, -6.96065843e-01, -1.20280264e-03,\n",
       "        -3.67208391e-01, -3.08707237e-01, -4.67095226e-01, -2.08940521e-01,\n",
       "        -5.29877067e-01, -6.79352582e-01, -3.44220191e-01,  4.19138134e-01,\n",
       "        -2.72504061e-01, -8.78996074e-01,  3.35715562e-01, -3.01301360e-01,\n",
       "        -9.47662294e-01, -6.57469690e-01, -3.60212207e-01, -7.01279402e-01,\n",
       "        -5.15852392e-01, -1.22603095e+00, -9.08785164e-01,  3.99017602e-01,\n",
       "        -7.46594667e-01, -6.14145219e-01, -7.38079488e-01, -1.41427442e-01,\n",
       "         4.60913330e-01, -5.55539072e-01,  6.45307958e-01, -1.66742429e-01,\n",
       "        -6.32721305e-01,  2.60978222e-01, -4.75169361e-01, -4.81212914e-01,\n",
       "         3.56787860e-01, -2.12430462e-01, -2.88207322e-01, -4.68567848e-01,\n",
       "        -7.52700686e-01, -8.28122795e-01,  5.62798858e-01, -6.76989496e-01,\n",
       "         2.06037462e-01,  2.14143142e-01,  3.82888854e-01,  3.14871579e-01,\n",
       "        -6.65370584e-01, -4.57711279e-01, -1.51749119e-01, -1.00553162e-01,\n",
       "        -8.03992152e-01, -8.24382186e-01, -6.46933675e-01, -1.96843624e-01,\n",
       "        -2.09804282e-01, -7.93366209e-02, -7.58886814e-01,  4.01929915e-01,\n",
       "        -6.37359202e-01,  3.95152688e-01, -4.04278219e-01,  5.42615540e-02,\n",
       "        -1.61834329e-01, -5.69060326e-01, -7.05496371e-01,  6.37166202e-01,\n",
       "        -8.39955628e-01, -3.47428739e-01, -1.33269459e-01, -6.53225899e-01,\n",
       "        -7.00923800e-01, -7.68225968e-01, -7.59126723e-01, -8.22464824e-01,\n",
       "        -6.63612306e-01, -1.60595685e-01, -5.24582326e-01,  3.51385206e-01,\n",
       "        -5.91254950e-01, -2.15998143e-01, -4.32001561e-01,  5.25261164e-01,\n",
       "        -5.36050200e-01,  6.39034569e-01, -5.57350159e-01, -6.29858434e-01,\n",
       "        -9.57797825e-01, -1.89814180e-01, -8.56452167e-01, -1.66792557e-01,\n",
       "        -5.66448331e-01, -9.06439126e-01, -2.92624775e-02, -2.83921778e-01,\n",
       "         1.39607102e-01, -7.55870640e-01, -6.88948452e-01,  7.48426169e-02,\n",
       "        -8.61249506e-01,  3.32946569e-01, -6.26733065e-01,  3.91820282e-01,\n",
       "        -1.49689093e-01,  3.49431872e-01, -2.40976319e-01,  5.26144922e-01,\n",
       "         1.03154950e-01, -2.45643497e-01, -8.30985069e-01,  3.50574940e-01,\n",
       "        -1.01157916e+00, -8.58794808e-01,  2.33049557e-01, -4.27830815e-01,\n",
       "        -2.58168340e-01, -4.30905744e-02,  6.71725333e-01, -6.35137558e-01,\n",
       "         1.47967309e-01,  1.29209325e-01, -3.45492363e-01, -3.84075582e-01,\n",
       "        -5.85751384e-02, -3.16352904e-01, -2.10130885e-01, -2.95322359e-01,\n",
       "        -1.93905056e-01, -8.52641642e-01, -3.83603692e-01, -3.70384574e-01,\n",
       "         5.90659916e-01, -2.85284638e-01, -4.99680161e-01,  1.23341002e-01,\n",
       "        -2.95141757e-01, -8.75568390e-01,  6.65905297e-01, -3.73942882e-01,\n",
       "         1.36604771e-01,  3.26029718e-01, -2.58099437e-01, -6.19523413e-02,\n",
       "        -3.64918828e-01, -2.05829218e-01, -6.66166306e-01, -7.92289734e-01,\n",
       "        -5.38381755e-01, -4.58315253e-01, -9.61951673e-01,  6.79350495e-01,\n",
       "        -5.06216109e-01, -6.96497083e-01, -8.88962984e-01, -3.54829848e-01,\n",
       "         1.57524496e-01, -5.57952583e-01,  1.27121657e-01,  2.92351246e-01,\n",
       "         2.58366764e-01, -3.55709821e-01, -6.40694678e-01, -8.07667971e-01,\n",
       "        -5.87277591e-01, -7.46677935e-01, -4.91181612e-01, -3.34228277e-01,\n",
       "        -1.86104447e-01,  5.48791289e-01,  3.97158623e-01, -3.40681642e-01,\n",
       "         1.87929168e-01, -2.28144541e-01, -6.13914371e-01,  5.26268363e-01,\n",
       "         5.40370405e-01, -6.19823337e-01, -2.70306021e-01,  1.48783505e-01,\n",
       "        -5.72464824e-01, -2.67146498e-01, -2.77197599e-01, -8.55636120e-01,\n",
       "        -1.59068823e-01, -7.40085840e-01, -1.26294836e-01, -4.87955809e-01,\n",
       "         1.47128791e-01, -1.94226608e-01, -8.05282712e-01, -6.08454823e-01,\n",
       "        -3.28280121e-01, -8.10964346e-01, -6.55788422e-01, -3.48172486e-01,\n",
       "         4.62675244e-01, -7.75948644e-01, -6.88411534e-01, -4.90216762e-02,\n",
       "        -7.50928342e-01, -8.30817580e-01, -1.82418019e-01, -7.73337901e-01,\n",
       "         1.13822885e-01, -6.90439582e-01, -8.60660747e-02,  4.60218489e-01,\n",
       "        -9.53392386e-02,  6.61959410e-01, -1.18020736e-01, -5.27312756e-02,\n",
       "        -5.37947476e-01, -6.65162742e-01, -2.61773318e-01, -6.02306664e-01,\n",
       "        -1.86528921e-01,  3.03901017e-01, -3.78462642e-01, -8.06712627e-01,\n",
       "        -4.88970578e-01, -6.92047715e-01, -2.94587076e-01,  4.91927415e-01,\n",
       "        -9.97143313e-02,  8.19174707e-01, -9.28396285e-01,  6.95705652e-01,\n",
       "        -5.25604606e-01, -4.55023497e-01, -3.70203972e-01,  5.23811817e-01,\n",
       "        -5.55866063e-01, -6.52763307e-01, -4.33514714e-01, -8.75293195e-01],\n",
       "       dtype=float32),\n",
       " array([[ 0.6893991 , -0.34456503, -0.4067893 , ..., -0.633233  ,\n",
       "         -0.42519635, -0.36754453],\n",
       "        [ 0.38425237, -0.4223449 , -0.37178007, ..., -0.40343177,\n",
       "         -0.29251   , -0.44245327],\n",
       "        [-0.3343692 ,  0.24656887,  0.21680693, ...,  0.24897496,\n",
       "          0.24623089,  0.22167228],\n",
       "        ...,\n",
       "        [-0.33832186, -0.00091896,  0.22258702, ...,  0.4098492 ,\n",
       "          0.64552224,  0.2368247 ],\n",
       "        [ 0.24596237, -0.05692933, -0.31037146, ..., -0.2472141 ,\n",
       "         -0.39742884, -0.47900414],\n",
       "        [-0.35840946,  0.61158156,  0.5088082 , ..., -0.15099849,\n",
       "         -0.5371905 ,  0.57169956]], dtype=float32),\n",
       " array([-0.39068905,  0.47484756,  0.42796245,  0.42292553,  0.8327415 ,\n",
       "         0.4738943 , -0.43513766,  0.37592885,  0.57856363, -0.47074628,\n",
       "         0.6679525 ,  0.4048333 , -0.01438671,  0.48153427,  0.7828375 ,\n",
       "        -0.40476716,  0.6466994 ,  0.74702746,  0.35420328, -0.48037767,\n",
       "         0.45798162,  0.5112762 ,  0.4320947 , -0.4302988 ,  0.6600462 ,\n",
       "        -0.02664535,  0.22665767,  0.19864953,  0.12681352, -0.51911473,\n",
       "        -0.4019608 ,  0.44469294, -0.13436212,  0.5007577 ,  0.48074117,\n",
       "         0.40229282,  0.65038615,  0.3244068 , -0.46790385,  0.6191503 ,\n",
       "         0.647757  , -0.35594383, -0.44187373, -0.11015768,  0.1129484 ,\n",
       "         0.58533573,  0.6215895 ,  0.7156122 ], dtype=float32),\n",
       " array([[ 3.02155703e-01, -3.25045466e-01, -1.80411726e-01,\n",
       "         -2.91448593e-01, -2.95063555e-01,  7.45578587e-01,\n",
       "         -1.28550366e-01, -2.76186377e-01,  3.95407915e-01,\n",
       "         -2.12743714e-01, -1.32043287e-01, -3.68037224e-01],\n",
       "        [ 2.55584806e-01,  5.65926969e-01,  1.93327546e-01,\n",
       "          3.75689179e-01,  1.09088026e-01,  1.06435776e-01,\n",
       "          2.26160884e-01,  2.54225194e-01,  3.42443079e-01,\n",
       "          1.99094176e-01,  2.20345333e-01,  5.89927971e-01],\n",
       "        [ 1.30678592e-02,  1.95191830e-01,  1.89617172e-01,\n",
       "          2.91181117e-01,  7.82288611e-02, -1.05981611e-01,\n",
       "          1.67784661e-01,  2.00628251e-01, -1.91059485e-01,\n",
       "          1.99299216e-01,  1.82872742e-01,  2.68307626e-01],\n",
       "        [ 1.26357684e-02, -1.44723341e-01,  7.09037185e-02,\n",
       "         -6.93363920e-02, -3.16779166e-02, -1.23482430e-02,\n",
       "          2.40922160e-02,  6.30152747e-02, -3.01774684e-02,\n",
       "          7.00445473e-02,  9.47755128e-02, -8.92612636e-02],\n",
       "        [ 5.01769066e-01,  8.64078820e-01,  2.49070242e-01,\n",
       "          6.68104112e-01,  3.80545348e-01,  3.38488221e-02,\n",
       "          1.91508800e-01,  4.88220006e-01,  5.72597027e-01,\n",
       "          2.28457555e-01,  2.20454335e-01,  9.85684395e-01],\n",
       "        [-2.76533365e-01,  3.01259637e-01,  3.83561879e-01,\n",
       "          3.06952864e-01,  1.75610900e-01, -1.14880890e-01,\n",
       "          3.55049402e-01,  3.64720434e-01, -4.46983993e-01,\n",
       "          3.72116625e-01,  3.87118489e-01,  3.13137382e-01],\n",
       "        [ 1.31727323e-01, -7.98350871e-02,  5.10789305e-02,\n",
       "         -8.60997438e-02, -1.26511410e-01,  5.57817101e-01,\n",
       "          6.61292300e-02, -8.69971663e-02,  1.09869085e-01,\n",
       "          6.25151722e-03,  5.62074967e-02, -1.57758728e-01],\n",
       "        [ 1.56965316e-03, -9.73505154e-02,  1.12985402e-01,\n",
       "         -3.51341590e-02,  2.59717437e-03,  1.08297385e-01,\n",
       "          4.81684394e-02,  1.02800809e-01, -6.43249154e-02,\n",
       "          1.04229353e-01,  1.12327054e-01, -2.65420415e-02],\n",
       "        [-7.98983723e-02,  2.48329695e-02,  1.76148042e-01,\n",
       "          5.05196899e-02,  3.54295850e-01,  2.66912356e-02,\n",
       "          1.23647973e-01,  1.60047606e-01, -2.10306659e-01,\n",
       "          1.92777947e-01,  1.55348554e-01, -2.25764867e-02],\n",
       "        [ 2.91430116e-01, -3.51991862e-01, -3.11117768e-01,\n",
       "         -3.79865140e-01, -2.40726069e-01,  7.45483100e-01,\n",
       "         -2.16138825e-01, -3.35112453e-01,  4.24866885e-01,\n",
       "         -2.61518329e-01, -2.37895072e-01, -4.32389945e-01],\n",
       "        [-1.57665312e-01,  7.29748234e-02,  2.16784775e-01,\n",
       "          1.62942961e-01,  1.50345519e-01, -1.01552688e-01,\n",
       "          1.77707240e-01,  1.04354478e-01, -9.78420377e-02,\n",
       "          1.28893644e-01,  1.43325210e-01,  6.41941056e-02],\n",
       "        [-1.28023759e-01,  2.99286067e-01,  2.43433654e-01,\n",
       "          3.88197333e-01,  1.67999446e-01, -4.67368476e-02,\n",
       "          2.06756935e-01,  3.22739542e-01, -9.80208144e-02,\n",
       "          2.83237457e-01,  2.31243432e-01,  2.73886949e-01],\n",
       "        [ 2.91544329e-02, -2.03384832e-02,  4.34634858e-04,\n",
       "          3.03310119e-02, -4.59478535e-02, -3.31109501e-02,\n",
       "         -2.76040658e-02, -7.50125386e-03, -3.54926684e-03,\n",
       "          5.74094504e-02,  4.60126903e-03, -1.53091224e-02],\n",
       "        [ 1.75047606e-01,  7.08865345e-01,  2.25615680e-01,\n",
       "          1.17180429e-01, -1.30175307e-01,  1.70284420e-01,\n",
       "          1.74875975e-01,  3.09388310e-01, -7.99232439e-05,\n",
       "          2.34800652e-01,  1.10525511e-01,  4.05479550e-01],\n",
       "        [-5.95175326e-01,  2.32509717e-01,  4.09336150e-01,\n",
       "          2.89359152e-01,  3.00773919e-01, -4.32065248e-01,\n",
       "          4.19832826e-01,  2.84139961e-01, -5.51147521e-01,\n",
       "          4.03265178e-01,  3.93451780e-01,  2.55026281e-01],\n",
       "        [ 3.22681457e-01, -3.41325551e-01, -2.63478875e-01,\n",
       "         -3.47413272e-01, -2.95184314e-01,  7.41279304e-01,\n",
       "         -2.21458212e-01, -3.02015573e-01,  4.25027966e-01,\n",
       "         -2.01705039e-01, -2.31043637e-01, -4.20177251e-01],\n",
       "        [-3.73724937e-01,  2.03324437e-01,  4.03496742e-01,\n",
       "          3.34805667e-01,  3.05960804e-01, -5.84819257e-01,\n",
       "          3.95388007e-01,  3.56188834e-01, -3.86729479e-01,\n",
       "          3.57195050e-01,  4.04620528e-01,  2.18240201e-01],\n",
       "        [-2.85992056e-01,  8.68759304e-02,  1.96324185e-01,\n",
       "          1.82953820e-01,  1.17022179e-01, -2.75619060e-01,\n",
       "          2.38219306e-01,  1.17570728e-01, -2.76045561e-01,\n",
       "          2.42797807e-01,  1.90215603e-01,  6.08875640e-02],\n",
       "        [-2.95020878e-01,  3.83058608e-01,  3.26017797e-01,\n",
       "          3.57047349e-01,  1.65415049e-01, -9.76857692e-02,\n",
       "          3.19906712e-01,  3.88214529e-01, -3.55810858e-03,\n",
       "          3.06286931e-01,  3.01718533e-01,  3.41853499e-01],\n",
       "        [ 3.13723683e-01, -6.30338550e-01, -4.41457570e-01,\n",
       "         -6.63923502e-01, -3.50027651e-01,  8.22431564e-01,\n",
       "         -4.31605935e-01, -5.17367721e-01,  4.20928061e-01,\n",
       "         -4.01170224e-01, -4.89017576e-01, -7.16893315e-01],\n",
       "        [-1.11821048e-01, -2.26418301e-01,  9.34333205e-02,\n",
       "         -1.38201594e-01, -8.27582404e-02,  4.51538637e-02,\n",
       "          7.20586777e-02, -4.57390845e-02, -3.59914422e-01,\n",
       "          9.37001035e-02,  9.95460823e-02, -2.47566819e-01],\n",
       "        [ 6.53111339e-02,  2.45015338e-01,  3.02653998e-01,\n",
       "          3.62487227e-01,  1.75556913e-01,  9.54760462e-02,\n",
       "          2.96535403e-01,  3.33215714e-01,  8.01567137e-02,\n",
       "          2.42537037e-01,  2.88308442e-01,  2.59933025e-01],\n",
       "        [-3.32716078e-01,  9.29217756e-01,  7.41498768e-01,\n",
       "          8.76745880e-01,  6.33491278e-01, -3.55678678e-01,\n",
       "          6.28579080e-01,  8.03706944e-01, -4.20287371e-01,\n",
       "          6.55760527e-01,  5.94350457e-01,  8.24840486e-01],\n",
       "        [ 3.42005044e-01, -2.65256107e-01, -1.44035622e-01,\n",
       "         -1.90768063e-01, -1.15552939e-01,  6.57921493e-01,\n",
       "         -1.06512845e-01, -1.85512573e-01,  3.51981103e-01,\n",
       "         -1.61408305e-01, -1.24795906e-01, -1.96965098e-01],\n",
       "        [-2.36551628e-01, -1.22448362e-01,  9.55815315e-02,\n",
       "         -4.14034426e-02,  1.77709647e-02, -1.88350692e-01,\n",
       "          4.51219007e-02,  2.95828786e-02, -2.35515565e-01,\n",
       "          1.03092156e-01,  4.01149131e-02, -1.46777004e-01],\n",
       "        [-6.76589203e-04,  5.13410121e-02,  4.70123105e-02,\n",
       "         -3.17706075e-03, -3.83293591e-02,  1.55429803e-02,\n",
       "         -4.30529453e-02, -2.06334982e-02, -2.22700723e-02,\n",
       "         -4.29939665e-03, -4.22535166e-02, -4.35369201e-02],\n",
       "        [-5.37304819e-01,  8.28890324e-01,  7.73539960e-01,\n",
       "          8.48901749e-01,  8.30568790e-01, -4.34697241e-01,\n",
       "          6.55676782e-01,  7.68687963e-01, -6.32727385e-01,\n",
       "          7.74485230e-01,  6.80560231e-01,  7.98713923e-01],\n",
       "        [ 2.90795624e-01,  1.97919294e-01,  6.27436712e-02,\n",
       "          2.73578167e-01, -5.82123101e-02,  3.08152109e-01,\n",
       "          6.63261339e-02,  1.47950247e-01,  2.75658458e-01,\n",
       "          5.52700162e-02,  6.35044649e-02,  2.29861513e-01],\n",
       "        [ 5.29209137e-01, -9.53403041e-02, -1.40312091e-01,\n",
       "         -2.73660161e-02, -4.89659965e-01,  5.22354722e-01,\n",
       "         -1.98982477e-01, -1.13290489e-01,  7.09102750e-01,\n",
       "         -1.47917360e-01, -2.07949534e-01, -1.24377578e-01],\n",
       "        [ 5.35578310e-01, -7.30036438e-01, -6.28640771e-01,\n",
       "         -6.88171029e-01, -4.02601689e-01,  9.04426873e-01,\n",
       "         -5.32320023e-01, -6.58219755e-01,  5.19716144e-01,\n",
       "         -5.92962444e-01, -5.55019319e-01, -7.73348749e-01],\n",
       "        [ 4.17847544e-01, -4.50071931e-01, -3.93552661e-01,\n",
       "         -4.78834838e-01, -3.13140154e-01,  8.09426546e-01,\n",
       "         -3.85047019e-01, -4.05408204e-01,  4.37304735e-01,\n",
       "         -3.59161735e-01, -3.54972124e-01, -4.76098359e-01],\n",
       "        [ 2.84933209e-01,  2.40209192e-01, -4.81946357e-02,\n",
       "         -2.90561467e-02, -3.34859312e-01,  4.24473703e-01,\n",
       "          3.95617746e-02,  1.98059808e-02,  6.42040491e-01,\n",
       "          3.39380689e-02,  5.51899709e-02,  3.43195379e-01],\n",
       "        [ 1.14669311e+00, -1.27967930e+00, -1.20801818e+00,\n",
       "         -1.10739279e+00, -5.05851984e-01,  1.05902910e+00,\n",
       "         -1.12875104e+00, -1.23627925e+00,  1.10198605e+00,\n",
       "         -1.17252636e+00, -1.11001897e+00, -1.28866231e+00],\n",
       "        [-5.38990134e-03, -1.28033772e-01,  6.84208870e-02,\n",
       "         -4.00540940e-02, -2.28035040e-02,  3.84962885e-03,\n",
       "         -1.78574715e-02,  1.16689466e-02, -6.74576536e-02,\n",
       "          1.82434749e-02, -7.75769539e-03, -1.48184121e-01],\n",
       "        [-8.09079111e-02,  2.35115662e-02,  1.48070469e-01,\n",
       "          1.27533704e-01,  9.95382550e-04, -8.43703747e-02,\n",
       "          1.80019647e-01,  9.91438404e-02, -1.10855542e-01,\n",
       "          1.21379450e-01,  1.28758639e-01,  6.13954477e-02],\n",
       "        [-1.51486069e-01, -2.00277269e-01,  9.07094702e-02,\n",
       "         -4.76658605e-02, -7.39277154e-02, -5.00816740e-02,\n",
       "          6.85279146e-02, -1.73218939e-02, -1.87840208e-01,\n",
       "          9.61039364e-02,  5.13169318e-02, -1.89793020e-01],\n",
       "        [-2.26800412e-01,  1.66431695e-01,  2.94836432e-01,\n",
       "          2.40651205e-01,  2.72053540e-01, -1.80936396e-01,\n",
       "          2.90292978e-01,  2.86844641e-01, -1.04801923e-01,\n",
       "          2.77508050e-01,  2.92530864e-01,  1.93512261e-01],\n",
       "        [ 3.25358212e-01,  2.81280667e-01,  8.33269358e-02,\n",
       "          4.42016661e-01,  6.54617965e-01,  2.09564492e-01,\n",
       "          8.75580832e-02,  1.22977361e-01,  5.54146290e-01,\n",
       "          9.55469757e-02,  9.39252898e-02,  4.29341793e-01],\n",
       "        [ 1.24216989e-01, -1.78930908e-01, -7.10104033e-02,\n",
       "         -1.61888748e-01, -2.20209986e-01,  5.50068498e-01,\n",
       "          2.39977427e-02, -8.26209709e-02,  1.53613165e-01,\n",
       "         -8.15719068e-02, -1.82542950e-02, -2.18372166e-01],\n",
       "        [-2.78264999e-01, -9.88506451e-02,  7.78248608e-02,\n",
       "         -1.38746770e-02,  9.96599942e-02, -9.02843028e-02,\n",
       "          1.24463357e-01,  3.10281906e-02, -2.73389310e-01,\n",
       "          1.40229598e-01,  1.33329123e-01, -1.01490177e-01],\n",
       "        [-2.49725640e-01,  5.20431995e-03,  2.10693032e-01,\n",
       "          1.23631857e-01,  2.04522312e-01, -1.57012865e-01,\n",
       "          2.37762645e-01,  1.95151761e-01, -2.81984478e-01,\n",
       "          2.72716790e-01,  2.21021026e-01,  1.02944322e-01],\n",
       "        [ 4.70150888e-01, -3.57296675e-01, -3.68395060e-01,\n",
       "         -4.32136834e-01, -2.92121559e-01,  8.38370919e-01,\n",
       "         -3.26330304e-01, -2.96103001e-01,  6.09432697e-01,\n",
       "         -3.56080592e-01, -3.72026384e-01, -3.98432910e-01],\n",
       "        [ 1.67230621e-01, -4.02187079e-01, -2.21601769e-01,\n",
       "         -3.52737159e-01, -2.55382419e-01,  5.89552820e-01,\n",
       "         -2.01303318e-01, -2.86477029e-01,  1.55126527e-01,\n",
       "         -2.68206537e-01, -2.27948830e-01, -4.24395829e-01],\n",
       "        [-5.59854358e-02, -7.29968250e-02, -1.37736499e-02,\n",
       "         -7.21851215e-02, -6.21171631e-02, -4.93219011e-02,\n",
       "         -2.48748772e-02, -2.14587916e-02, -4.96815592e-02,\n",
       "         -1.49226356e-02,  4.62530255e-02, -1.20483888e-02],\n",
       "        [ 3.10715884e-01,  6.80024177e-02,  1.27378821e-01,\n",
       "          3.24530751e-01, -5.08287689e-03,  1.86083928e-01,\n",
       "          1.02400318e-01,  1.25763163e-01,  3.33205104e-01,\n",
       "          9.62058455e-02,  1.71095058e-01,  1.68294743e-01],\n",
       "        [ 6.51822910e-02,  2.05381811e-01,  2.69871086e-01,\n",
       "          2.42305905e-01,  1.95297211e-01, -4.81566750e-02,\n",
       "          2.95129269e-01,  2.76506126e-01, -1.05971791e-01,\n",
       "          2.61248797e-01,  3.20083559e-01,  2.40818769e-01],\n",
       "        [-1.77586928e-01,  3.07262868e-01,  3.11495692e-01,\n",
       "          3.64637971e-01,  2.91890681e-01, -1.00034237e-01,\n",
       "          2.21494347e-01,  3.61317366e-01, -2.82724649e-01,\n",
       "          2.60877013e-01,  2.52445996e-01,  3.39626253e-01],\n",
       "        [-1.31883487e-01,  5.33053838e-03,  1.94895387e-01,\n",
       "          1.38868421e-01,  1.97400436e-01, -1.29977137e-01,\n",
       "          1.49641052e-01,  1.26236930e-01, -2.93967515e-01,\n",
       "          2.35680133e-01,  1.59615442e-01,  9.09545571e-02]], dtype=float32),\n",
       " array([-0.22485667,  0.5540878 ,  0.7608209 ,  0.6021461 ,  0.34975767,\n",
       "        -0.28856885,  0.78648394,  0.6738519 , -0.1675615 ,  0.7558785 ,\n",
       "         0.75570655,  0.52975965], dtype=float32),\n",
       " array([[ 0.75720876],\n",
       "        [-0.3786486 ],\n",
       "        [-0.40284297],\n",
       "        [-0.45104226],\n",
       "        [-0.37005574],\n",
       "        [ 0.96426004],\n",
       "        [-0.2853425 ],\n",
       "        [-0.38872647],\n",
       "        [ 0.75547385],\n",
       "        [-0.33270502],\n",
       "        [-0.29898003],\n",
       "        [-0.42260838]], dtype=float32),\n",
       " array([-0.40703782], dtype=float32)]"
      ]
     },
     "execution_count": 10,
     "metadata": {},
     "output_type": "execute_result"
    }
   ],
   "source": [
    "model.get_weights() "
   ]
  },
  {
   "cell_type": "code",
   "execution_count": 46,
   "metadata": {},
   "outputs": [],
   "source": [
    "# li = []\n",
    "# j=9002\n",
    "# for i in range(0,1000):\n",
    "#     if y_testing[i]!=y_pred[i]:\n",
    "#         print(y_testing[i],y_pred[i], j+i)\n",
    "#         li.append(i)\n",
    "# li"
   ]
  },
  {
   "cell_type": "code",
   "execution_count": 40,
   "metadata": {},
   "outputs": [],
   "source": [
    "def calcres(t1, t2, t3, t4, p1, p2, p3, p4, g1, g2, g3, g4):\n",
    "    X_test = scaler.transform([[t1, t2, t3, t4, p1, p2, p3, p4, g1, g2, g3, g4]])\n",
    "    #print(X_test,X_test.shape)\n",
    "    prediction = model.predict(X_test)\n",
    "    print(prediction)\n",
    "    if prediction<=0.5:\n",
    "        print( \"Oops! the system is linearly unstable.\")\n",
    "    else:\n",
    "        print( \"Great! the system is stable.\" )"
   ]
  },
  {
   "cell_type": "code",
   "execution_count": 42,
   "metadata": {},
   "outputs": [
    {
     "name": "stdout",
     "output_type": "stream",
     "text": [
      "[[1.]]\n",
      "Great! the system is stable.\n",
      "[[1.407221e-24]]\n",
      "Oops! the system is linearly unstable.\n"
     ]
    }
   ],
   "source": [
    "calcres(2.837221501,8.244192067,0.724832379,9.398787417,2.686927371,-0.836726338,-0.956175486,-0.894025548,0.799332056,0.095360039,0.251985331,0.153553754)\n",
    "calcres(8.472177282,2.045812588,2.550468814,9.855937949,3.635816965,-0.990384574,-0.782448796,-1.862983596,0.758596065,0.294628154,0.216889989,0.48657837)"
   ]
  }
 ],
 "metadata": {
  "colab": {
   "collapsed_sections": [],
   "name": "SGcdh.ipynb",
   "provenance": []
  },
  "kernelspec": {
   "display_name": "Python 3",
   "language": "python",
   "name": "python3"
  },
  "language_info": {
   "codemirror_mode": {
    "name": "ipython",
    "version": 3
   },
   "file_extension": ".py",
   "mimetype": "text/x-python",
   "name": "python",
   "nbconvert_exporter": "python",
   "pygments_lexer": "ipython3",
   "version": "3.7.0"
  }
 },
 "nbformat": 4,
 "nbformat_minor": 1
}
