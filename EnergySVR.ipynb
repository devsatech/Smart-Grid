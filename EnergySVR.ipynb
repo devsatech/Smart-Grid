{
 "cells": [
  {
   "cell_type": "code",
   "execution_count": 1,
   "metadata": {},
   "outputs": [
    {
     "name": "stderr",
     "output_type": "stream",
     "text": [
      "C:\\Users\\CG\\Anaconda3\\lib\\site-packages\\sklearn\\ensemble\\weight_boosting.py:29: DeprecationWarning: numpy.core.umath_tests is an internal NumPy module and should not be imported. It will be removed in a future NumPy release.\n",
      "  from numpy.core.umath_tests import inner1d\n"
     ]
    }
   ],
   "source": [
    "import numpy as np\n",
    "import pandas as pd\n",
    "from sklearn.preprocessing import StandardScaler,LabelEncoder\n",
    "from sklearn.svm import SVR\n",
    "from sklearn.model_selection import train_test_split\n",
    "from sklearn.ensemble import RandomForestRegressor"
   ]
  },
  {
   "cell_type": "code",
   "execution_count": 5,
   "metadata": {},
   "outputs": [],
   "source": [
    "X=pd.read_csv(\"ENB2012_data.csv\")\n",
    "X=pd.DataFrame(X)\n",
    "X=X.reindex(np.random.permutation(X.index))\n",
    "#print(X)\n",
    "X.values\n",
    "train = X[:int(X.shape[0]*0.7)]\n",
    "x_train = train.iloc[:,:8]\n",
    "y1_train = train.iloc[:,-2]\n",
    "y2_train = train.iloc[:,-1]\n",
    "test = X[int(X.shape[0]*0.7):]\n",
    "x_test = test.iloc[:,:8]\n",
    "y1_test = test.iloc[:,-2]\n",
    "y2_test = test.iloc[:,-1]"
   ]
  },
  {
   "cell_type": "code",
   "execution_count": 8,
   "metadata": {},
   "outputs": [
    {
     "name": "stdout",
     "output_type": "stream",
     "text": [
      "Accuracy of Heating Load (HL) using RF =  0.9968274965804349\n",
      "\n",
      "\n",
      "Accuracy of Cooling Load (CL) using RF =  0.9860211879469379\n"
     ]
    }
   ],
   "source": [
    "model1= SVR(C=1000)\n",
    "model1.fit(x_train, y1_train)\n",
    "print(\"Accuracy of Heating Load (HL) using RF = \",model1.score(x_test, y1_test))\n",
    "\n",
    "model2= SVR(C=1000)\n",
    "model2.fit(x_train, y2_train)\n",
    "print(\"\\n\\nAccuracy of Cooling Load (CL) using RF = \",model2.score(x_test, y2_test))\n",
    "\n",
    "\n",
    "#x_temp=[[0.76,661.5,416.5,122.5,7,4,0.4,5]]\n",
    "#print(\"\\n\\nValue of HL predicted = \",model1.predict(x_temp1))\n",
    "#print(\"\\n\\nValue of CL predicted = \",model2.predict(x_temp))"
   ]
  },
  {
   "cell_type": "code",
   "execution_count": null,
   "metadata": {},
   "outputs": [],
   "source": []
  }
 ],
 "metadata": {
  "kernelspec": {
   "display_name": "Python 3",
   "language": "python",
   "name": "python3"
  },
  "language_info": {
   "codemirror_mode": {
    "name": "ipython",
    "version": 3
   },
   "file_extension": ".py",
   "mimetype": "text/x-python",
   "name": "python",
   "nbconvert_exporter": "python",
   "pygments_lexer": "ipython3",
   "version": "3.7.0"
  }
 },
 "nbformat": 4,
 "nbformat_minor": 2
}
